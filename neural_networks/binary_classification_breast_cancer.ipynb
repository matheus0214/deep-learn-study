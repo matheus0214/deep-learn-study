{
 "cells": [
  {
   "cell_type": "markdown",
   "metadata": {},
   "source": [
    "## Breast Cancer"
   ]
  },
  {
   "cell_type": "code",
   "execution_count": 1,
   "metadata": {},
   "outputs": [
    {
     "name": "stderr",
     "output_type": "stream",
     "text": [
      "2025-02-03 22:34:27.630681: I tensorflow/core/util/port.cc:153] oneDNN custom operations are on. You may see slightly different numerical results due to floating-point round-off errors from different computation orders. To turn them off, set the environment variable `TF_ENABLE_ONEDNN_OPTS=0`.\n",
      "2025-02-03 22:34:27.636238: I external/local_xla/xla/tsl/cuda/cudart_stub.cc:32] Could not find cuda drivers on your machine, GPU will not be used.\n",
      "2025-02-03 22:34:27.699596: I external/local_xla/xla/tsl/cuda/cudart_stub.cc:32] Could not find cuda drivers on your machine, GPU will not be used.\n",
      "2025-02-03 22:34:27.785642: E external/local_xla/xla/stream_executor/cuda/cuda_fft.cc:477] Unable to register cuFFT factory: Attempting to register factory for plugin cuFFT when one has already been registered\n",
      "WARNING: All log messages before absl::InitializeLog() is called are written to STDERR\n",
      "E0000 00:00:1738632867.846438  115402 cuda_dnn.cc:8310] Unable to register cuDNN factory: Attempting to register factory for plugin cuDNN when one has already been registered\n",
      "E0000 00:00:1738632867.867406  115402 cuda_blas.cc:1418] Unable to register cuBLAS factory: Attempting to register factory for plugin cuBLAS when one has already been registered\n",
      "2025-02-03 22:34:28.026586: I tensorflow/core/platform/cpu_feature_guard.cc:210] This TensorFlow binary is optimized to use available CPU instructions in performance-critical operations.\n",
      "To enable the following instructions: AVX2 AVX_VNNI FMA, in other operations, rebuild TensorFlow with the appropriate compiler flags.\n"
     ]
    }
   ],
   "source": [
    "import pandas as pd\n",
    "from sklearn.model_selection import train_test_split\n",
    "import tensorflow as tf\n",
    "from sklearn.metrics import accuracy_score, confusion_matrix"
   ]
  },
  {
   "cell_type": "code",
   "execution_count": 2,
   "metadata": {},
   "outputs": [],
   "source": [
    "# previsions\n",
    "X = pd.read_csv(\"./data/entradas_breast.csv\")\n",
    "\n",
    "# class\n",
    "y = pd.read_csv(\"./data/saidas_breast.csv\")"
   ]
  },
  {
   "cell_type": "code",
   "execution_count": 3,
   "metadata": {},
   "outputs": [],
   "source": [
    "# 75% of the data is used to train and 25% to test\n",
    "X_train, X_test, y_train, y_test = train_test_split(X, y, test_size=0.25)"
   ]
  },
  {
   "cell_type": "code",
   "execution_count": 4,
   "metadata": {},
   "outputs": [
    {
     "data": {
      "text/plain": [
       "((426, 30), (143, 30))"
      ]
     },
     "execution_count": 4,
     "metadata": {},
     "output_type": "execute_result"
    }
   ],
   "source": [
    "X_train.shape, X_test.shape"
   ]
  },
  {
   "cell_type": "markdown",
   "metadata": {},
   "source": [
    "Calculate neurons\n",
    "(input + output_options) / 2"
   ]
  },
  {
   "cell_type": "code",
   "execution_count": 5,
   "metadata": {},
   "outputs": [
    {
     "data": {
      "text/plain": [
       "15.5"
      ]
     },
     "execution_count": 5,
     "metadata": {},
     "output_type": "execute_result"
    }
   ],
   "source": [
    "(30 + 1) / 2"
   ]
  },
  {
   "cell_type": "code",
   "execution_count": 6,
   "metadata": {},
   "outputs": [
    {
     "name": "stderr",
     "output_type": "stream",
     "text": [
      "W0000 00:00:1738632869.434986  115402 gpu_device.cc:2344] Cannot dlopen some GPU libraries. Please make sure the missing libraries mentioned above are installed properly if you would like to use GPU. Follow the guide at https://www.tensorflow.org/install/gpu for how to download and setup the required libraries for your platform.\n",
      "Skipping registering GPU devices...\n"
     ]
    },
    {
     "data": {
      "text/plain": [
       "[]"
      ]
     },
     "execution_count": 6,
     "metadata": {},
     "output_type": "execute_result"
    }
   ],
   "source": [
    "tf.config.list_physical_devices(\"GPU\")"
   ]
  },
  {
   "cell_type": "code",
   "execution_count": 7,
   "metadata": {},
   "outputs": [],
   "source": [
    "neural_network = tf.keras.Sequential([\n",
    "    tf.keras.layers.InputLayer(shape=(30,)),\n",
    "    tf.keras.layers.Dense(units=16, activation=\"relu\", kernel_initializer=\"random_uniform\"),\n",
    "    tf.keras.layers.Dense(units=16, activation=\"relu\", kernel_initializer=\"random_uniform\"),\n",
    "    tf.keras.layers.Dense(units=1, activation=\"sigmoid\")\n",
    "])"
   ]
  },
  {
   "cell_type": "code",
   "execution_count": 8,
   "metadata": {},
   "outputs": [
    {
     "data": {
      "text/html": [
       "<pre style=\"white-space:pre;overflow-x:auto;line-height:normal;font-family:Menlo,'DejaVu Sans Mono',consolas,'Courier New',monospace\"><span style=\"font-weight: bold\">Model: \"sequential\"</span>\n",
       "</pre>\n"
      ],
      "text/plain": [
       "\u001b[1mModel: \"sequential\"\u001b[0m\n"
      ]
     },
     "metadata": {},
     "output_type": "display_data"
    },
    {
     "data": {
      "text/html": [
       "<pre style=\"white-space:pre;overflow-x:auto;line-height:normal;font-family:Menlo,'DejaVu Sans Mono',consolas,'Courier New',monospace\">┏━━━━━━━━━━━━━━━━━━━━━━━━━━━━━━━━━┳━━━━━━━━━━━━━━━━━━━━━━━━┳━━━━━━━━━━━━━━━┓\n",
       "┃<span style=\"font-weight: bold\"> Layer (type)                    </span>┃<span style=\"font-weight: bold\"> Output Shape           </span>┃<span style=\"font-weight: bold\">       Param # </span>┃\n",
       "┡━━━━━━━━━━━━━━━━━━━━━━━━━━━━━━━━━╇━━━━━━━━━━━━━━━━━━━━━━━━╇━━━━━━━━━━━━━━━┩\n",
       "│ dense (<span style=\"color: #0087ff; text-decoration-color: #0087ff\">Dense</span>)                   │ (<span style=\"color: #00d7ff; text-decoration-color: #00d7ff\">None</span>, <span style=\"color: #00af00; text-decoration-color: #00af00\">16</span>)             │           <span style=\"color: #00af00; text-decoration-color: #00af00\">496</span> │\n",
       "├─────────────────────────────────┼────────────────────────┼───────────────┤\n",
       "│ dense_1 (<span style=\"color: #0087ff; text-decoration-color: #0087ff\">Dense</span>)                 │ (<span style=\"color: #00d7ff; text-decoration-color: #00d7ff\">None</span>, <span style=\"color: #00af00; text-decoration-color: #00af00\">16</span>)             │           <span style=\"color: #00af00; text-decoration-color: #00af00\">272</span> │\n",
       "├─────────────────────────────────┼────────────────────────┼───────────────┤\n",
       "│ dense_2 (<span style=\"color: #0087ff; text-decoration-color: #0087ff\">Dense</span>)                 │ (<span style=\"color: #00d7ff; text-decoration-color: #00d7ff\">None</span>, <span style=\"color: #00af00; text-decoration-color: #00af00\">1</span>)              │            <span style=\"color: #00af00; text-decoration-color: #00af00\">17</span> │\n",
       "└─────────────────────────────────┴────────────────────────┴───────────────┘\n",
       "</pre>\n"
      ],
      "text/plain": [
       "┏━━━━━━━━━━━━━━━━━━━━━━━━━━━━━━━━━┳━━━━━━━━━━━━━━━━━━━━━━━━┳━━━━━━━━━━━━━━━┓\n",
       "┃\u001b[1m \u001b[0m\u001b[1mLayer (type)                   \u001b[0m\u001b[1m \u001b[0m┃\u001b[1m \u001b[0m\u001b[1mOutput Shape          \u001b[0m\u001b[1m \u001b[0m┃\u001b[1m \u001b[0m\u001b[1m      Param #\u001b[0m\u001b[1m \u001b[0m┃\n",
       "┡━━━━━━━━━━━━━━━━━━━━━━━━━━━━━━━━━╇━━━━━━━━━━━━━━━━━━━━━━━━╇━━━━━━━━━━━━━━━┩\n",
       "│ dense (\u001b[38;5;33mDense\u001b[0m)                   │ (\u001b[38;5;45mNone\u001b[0m, \u001b[38;5;34m16\u001b[0m)             │           \u001b[38;5;34m496\u001b[0m │\n",
       "├─────────────────────────────────┼────────────────────────┼───────────────┤\n",
       "│ dense_1 (\u001b[38;5;33mDense\u001b[0m)                 │ (\u001b[38;5;45mNone\u001b[0m, \u001b[38;5;34m16\u001b[0m)             │           \u001b[38;5;34m272\u001b[0m │\n",
       "├─────────────────────────────────┼────────────────────────┼───────────────┤\n",
       "│ dense_2 (\u001b[38;5;33mDense\u001b[0m)                 │ (\u001b[38;5;45mNone\u001b[0m, \u001b[38;5;34m1\u001b[0m)              │            \u001b[38;5;34m17\u001b[0m │\n",
       "└─────────────────────────────────┴────────────────────────┴───────────────┘\n"
      ]
     },
     "metadata": {},
     "output_type": "display_data"
    },
    {
     "data": {
      "text/html": [
       "<pre style=\"white-space:pre;overflow-x:auto;line-height:normal;font-family:Menlo,'DejaVu Sans Mono',consolas,'Courier New',monospace\"><span style=\"font-weight: bold\"> Total params: </span><span style=\"color: #00af00; text-decoration-color: #00af00\">785</span> (3.07 KB)\n",
       "</pre>\n"
      ],
      "text/plain": [
       "\u001b[1m Total params: \u001b[0m\u001b[38;5;34m785\u001b[0m (3.07 KB)\n"
      ]
     },
     "metadata": {},
     "output_type": "display_data"
    },
    {
     "data": {
      "text/html": [
       "<pre style=\"white-space:pre;overflow-x:auto;line-height:normal;font-family:Menlo,'DejaVu Sans Mono',consolas,'Courier New',monospace\"><span style=\"font-weight: bold\"> Trainable params: </span><span style=\"color: #00af00; text-decoration-color: #00af00\">785</span> (3.07 KB)\n",
       "</pre>\n"
      ],
      "text/plain": [
       "\u001b[1m Trainable params: \u001b[0m\u001b[38;5;34m785\u001b[0m (3.07 KB)\n"
      ]
     },
     "metadata": {},
     "output_type": "display_data"
    },
    {
     "data": {
      "text/html": [
       "<pre style=\"white-space:pre;overflow-x:auto;line-height:normal;font-family:Menlo,'DejaVu Sans Mono',consolas,'Courier New',monospace\"><span style=\"font-weight: bold\"> Non-trainable params: </span><span style=\"color: #00af00; text-decoration-color: #00af00\">0</span> (0.00 B)\n",
       "</pre>\n"
      ],
      "text/plain": [
       "\u001b[1m Non-trainable params: \u001b[0m\u001b[38;5;34m0\u001b[0m (0.00 B)\n"
      ]
     },
     "metadata": {},
     "output_type": "display_data"
    }
   ],
   "source": [
    "neural_network.summary()"
   ]
  },
  {
   "cell_type": "code",
   "execution_count": 9,
   "metadata": {},
   "outputs": [],
   "source": [
    "optimizer = tf.keras.optimizers.Adam(learning_rate=0.001, clipvalue=0.5)"
   ]
  },
  {
   "cell_type": "code",
   "execution_count": 10,
   "metadata": {},
   "outputs": [],
   "source": [
    "neural_network.compile(optimizer=optimizer, loss=\"binary_crossentropy\", metrics=[\"binary_accuracy\"])"
   ]
  },
  {
   "cell_type": "code",
   "execution_count": 11,
   "metadata": {},
   "outputs": [
    {
     "name": "stdout",
     "output_type": "stream",
     "text": [
      "Epoch 1/100\n",
      "\u001b[1m43/43\u001b[0m \u001b[32m━━━━━━━━━━━━━━━━━━━━\u001b[0m\u001b[37m\u001b[0m \u001b[1m1s\u001b[0m 1ms/step - binary_accuracy: 0.5913 - loss: 2.0607   \n",
      "Epoch 2/100\n",
      "\u001b[1m43/43\u001b[0m \u001b[32m━━━━━━━━━━━━━━━━━━━━\u001b[0m\u001b[37m\u001b[0m \u001b[1m0s\u001b[0m 1ms/step - binary_accuracy: 0.8122 - loss: 0.4335 \n",
      "Epoch 3/100\n",
      "\u001b[1m43/43\u001b[0m \u001b[32m━━━━━━━━━━━━━━━━━━━━\u001b[0m\u001b[37m\u001b[0m \u001b[1m0s\u001b[0m 1ms/step - binary_accuracy: 0.8228 - loss: 0.4076 \n",
      "Epoch 4/100\n",
      "\u001b[1m43/43\u001b[0m \u001b[32m━━━━━━━━━━━━━━━━━━━━\u001b[0m\u001b[37m\u001b[0m \u001b[1m0s\u001b[0m 1ms/step - binary_accuracy: 0.8459 - loss: 0.3938 \n",
      "Epoch 5/100\n",
      "\u001b[1m43/43\u001b[0m \u001b[32m━━━━━━━━━━━━━━━━━━━━\u001b[0m\u001b[37m\u001b[0m \u001b[1m0s\u001b[0m 1ms/step - binary_accuracy: 0.8403 - loss: 0.3949 \n",
      "Epoch 6/100\n",
      "\u001b[1m43/43\u001b[0m \u001b[32m━━━━━━━━━━━━━━━━━━━━\u001b[0m\u001b[37m\u001b[0m \u001b[1m0s\u001b[0m 1ms/step - binary_accuracy: 0.8416 - loss: 0.3998 \n",
      "Epoch 7/100\n",
      "\u001b[1m43/43\u001b[0m \u001b[32m━━━━━━━━━━━━━━━━━━━━\u001b[0m\u001b[37m\u001b[0m \u001b[1m0s\u001b[0m 1ms/step - binary_accuracy: 0.8834 - loss: 0.3151 \n",
      "Epoch 8/100\n",
      "\u001b[1m43/43\u001b[0m \u001b[32m━━━━━━━━━━━━━━━━━━━━\u001b[0m\u001b[37m\u001b[0m \u001b[1m0s\u001b[0m 991us/step - binary_accuracy: 0.8716 - loss: 0.3406\n",
      "Epoch 9/100\n",
      "\u001b[1m43/43\u001b[0m \u001b[32m━━━━━━━━━━━━━━━━━━━━\u001b[0m\u001b[37m\u001b[0m \u001b[1m0s\u001b[0m 969us/step - binary_accuracy: 0.8979 - loss: 0.3056\n",
      "Epoch 10/100\n",
      "\u001b[1m43/43\u001b[0m \u001b[32m━━━━━━━━━━━━━━━━━━━━\u001b[0m\u001b[37m\u001b[0m \u001b[1m0s\u001b[0m 1ms/step - binary_accuracy: 0.8712 - loss: 0.3134 \n",
      "Epoch 11/100\n",
      "\u001b[1m43/43\u001b[0m \u001b[32m━━━━━━━━━━━━━━━━━━━━\u001b[0m\u001b[37m\u001b[0m \u001b[1m0s\u001b[0m 1ms/step - binary_accuracy: 0.8703 - loss: 0.3100 \n",
      "Epoch 12/100\n",
      "\u001b[1m43/43\u001b[0m \u001b[32m━━━━━━━━━━━━━━━━━━━━\u001b[0m\u001b[37m\u001b[0m \u001b[1m0s\u001b[0m 1ms/step - binary_accuracy: 0.9160 - loss: 0.2634 \n",
      "Epoch 13/100\n",
      "\u001b[1m43/43\u001b[0m \u001b[32m━━━━━━━━━━━━━━━━━━━━\u001b[0m\u001b[37m\u001b[0m \u001b[1m0s\u001b[0m 1ms/step - binary_accuracy: 0.8595 - loss: 0.3285 \n",
      "Epoch 14/100\n",
      "\u001b[1m43/43\u001b[0m \u001b[32m━━━━━━━━━━━━━━━━━━━━\u001b[0m\u001b[37m\u001b[0m \u001b[1m0s\u001b[0m 1ms/step - binary_accuracy: 0.8980 - loss: 0.4207 \n",
      "Epoch 15/100\n",
      "\u001b[1m43/43\u001b[0m \u001b[32m━━━━━━━━━━━━━━━━━━━━\u001b[0m\u001b[37m\u001b[0m \u001b[1m0s\u001b[0m 1ms/step - binary_accuracy: 0.8716 - loss: 0.3572 \n",
      "Epoch 16/100\n",
      "\u001b[1m43/43\u001b[0m \u001b[32m━━━━━━━━━━━━━━━━━━━━\u001b[0m\u001b[37m\u001b[0m \u001b[1m0s\u001b[0m 1ms/step - binary_accuracy: 0.8760 - loss: 0.4312 \n",
      "Epoch 17/100\n",
      "\u001b[1m43/43\u001b[0m \u001b[32m━━━━━━━━━━━━━━━━━━━━\u001b[0m\u001b[37m\u001b[0m \u001b[1m0s\u001b[0m 1ms/step - binary_accuracy: 0.9040 - loss: 0.3282 \n",
      "Epoch 18/100\n",
      "\u001b[1m43/43\u001b[0m \u001b[32m━━━━━━━━━━━━━━━━━━━━\u001b[0m\u001b[37m\u001b[0m \u001b[1m0s\u001b[0m 974us/step - binary_accuracy: 0.8329 - loss: 0.4815\n",
      "Epoch 19/100\n",
      "\u001b[1m43/43\u001b[0m \u001b[32m━━━━━━━━━━━━━━━━━━━━\u001b[0m\u001b[37m\u001b[0m \u001b[1m0s\u001b[0m 1ms/step - binary_accuracy: 0.8761 - loss: 0.3391 \n",
      "Epoch 20/100\n",
      "\u001b[1m43/43\u001b[0m \u001b[32m━━━━━━━━━━━━━━━━━━━━\u001b[0m\u001b[37m\u001b[0m \u001b[1m0s\u001b[0m 1ms/step - binary_accuracy: 0.8858 - loss: 0.3360 \n",
      "Epoch 21/100\n",
      "\u001b[1m43/43\u001b[0m \u001b[32m━━━━━━━━━━━━━━━━━━━━\u001b[0m\u001b[37m\u001b[0m \u001b[1m0s\u001b[0m 1ms/step - binary_accuracy: 0.8905 - loss: 0.2641 \n",
      "Epoch 22/100\n",
      "\u001b[1m43/43\u001b[0m \u001b[32m━━━━━━━━━━━━━━━━━━━━\u001b[0m\u001b[37m\u001b[0m \u001b[1m0s\u001b[0m 1ms/step - binary_accuracy: 0.8966 - loss: 0.3115 \n",
      "Epoch 23/100\n",
      "\u001b[1m43/43\u001b[0m \u001b[32m━━━━━━━━━━━━━━━━━━━━\u001b[0m\u001b[37m\u001b[0m \u001b[1m0s\u001b[0m 1ms/step - binary_accuracy: 0.8997 - loss: 0.2792 \n",
      "Epoch 24/100\n",
      "\u001b[1m43/43\u001b[0m \u001b[32m━━━━━━━━━━━━━━━━━━━━\u001b[0m\u001b[37m\u001b[0m \u001b[1m0s\u001b[0m 1ms/step - binary_accuracy: 0.8404 - loss: 0.3696 \n",
      "Epoch 25/100\n",
      "\u001b[1m43/43\u001b[0m \u001b[32m━━━━━━━━━━━━━━━━━━━━\u001b[0m\u001b[37m\u001b[0m \u001b[1m0s\u001b[0m 1ms/step - binary_accuracy: 0.8558 - loss: 0.5348 \n",
      "Epoch 26/100\n",
      "\u001b[1m43/43\u001b[0m \u001b[32m━━━━━━━━━━━━━━━━━━━━\u001b[0m\u001b[37m\u001b[0m \u001b[1m0s\u001b[0m 967us/step - binary_accuracy: 0.8783 - loss: 0.2959\n",
      "Epoch 27/100\n",
      "\u001b[1m43/43\u001b[0m \u001b[32m━━━━━━━━━━━━━━━━━━━━\u001b[0m\u001b[37m\u001b[0m \u001b[1m0s\u001b[0m 1ms/step - binary_accuracy: 0.8424 - loss: 0.4878 \n",
      "Epoch 28/100\n",
      "\u001b[1m43/43\u001b[0m \u001b[32m━━━━━━━━━━━━━━━━━━━━\u001b[0m\u001b[37m\u001b[0m \u001b[1m0s\u001b[0m 1ms/step - binary_accuracy: 0.8602 - loss: 0.3326 \n",
      "Epoch 29/100\n",
      "\u001b[1m43/43\u001b[0m \u001b[32m━━━━━━━━━━━━━━━━━━━━\u001b[0m\u001b[37m\u001b[0m \u001b[1m0s\u001b[0m 929us/step - binary_accuracy: 0.8439 - loss: 0.4046\n",
      "Epoch 30/100\n",
      "\u001b[1m43/43\u001b[0m \u001b[32m━━━━━━━━━━━━━━━━━━━━\u001b[0m\u001b[37m\u001b[0m \u001b[1m0s\u001b[0m 1ms/step - binary_accuracy: 0.8808 - loss: 0.4049 \n",
      "Epoch 31/100\n",
      "\u001b[1m43/43\u001b[0m \u001b[32m━━━━━━━━━━━━━━━━━━━━\u001b[0m\u001b[37m\u001b[0m \u001b[1m0s\u001b[0m 1ms/step - binary_accuracy: 0.8872 - loss: 0.3405 \n",
      "Epoch 32/100\n",
      "\u001b[1m43/43\u001b[0m \u001b[32m━━━━━━━━━━━━━━━━━━━━\u001b[0m\u001b[37m\u001b[0m \u001b[1m0s\u001b[0m 1ms/step - binary_accuracy: 0.8603 - loss: 0.4152 \n",
      "Epoch 33/100\n",
      "\u001b[1m43/43\u001b[0m \u001b[32m━━━━━━━━━━━━━━━━━━━━\u001b[0m\u001b[37m\u001b[0m \u001b[1m0s\u001b[0m 977us/step - binary_accuracy: 0.8539 - loss: 0.3937\n",
      "Epoch 34/100\n",
      "\u001b[1m43/43\u001b[0m \u001b[32m━━━━━━━━━━━━━━━━━━━━\u001b[0m\u001b[37m\u001b[0m \u001b[1m0s\u001b[0m 1ms/step - binary_accuracy: 0.9072 - loss: 0.3255 \n",
      "Epoch 35/100\n",
      "\u001b[1m43/43\u001b[0m \u001b[32m━━━━━━━━━━━━━━━━━━━━\u001b[0m\u001b[37m\u001b[0m \u001b[1m0s\u001b[0m 1ms/step - binary_accuracy: 0.8748 - loss: 0.4000 \n",
      "Epoch 36/100\n",
      "\u001b[1m43/43\u001b[0m \u001b[32m━━━━━━━━━━━━━━━━━━━━\u001b[0m\u001b[37m\u001b[0m \u001b[1m0s\u001b[0m 1ms/step - binary_accuracy: 0.8327 - loss: 0.4752 \n",
      "Epoch 37/100\n",
      "\u001b[1m43/43\u001b[0m \u001b[32m━━━━━━━━━━━━━━━━━━━━\u001b[0m\u001b[37m\u001b[0m \u001b[1m0s\u001b[0m 1ms/step - binary_accuracy: 0.9086 - loss: 0.3340 \n",
      "Epoch 38/100\n",
      "\u001b[1m43/43\u001b[0m \u001b[32m━━━━━━━━━━━━━━━━━━━━\u001b[0m\u001b[37m\u001b[0m \u001b[1m0s\u001b[0m 980us/step - binary_accuracy: 0.8865 - loss: 0.3573\n",
      "Epoch 39/100\n",
      "\u001b[1m43/43\u001b[0m \u001b[32m━━━━━━━━━━━━━━━━━━━━\u001b[0m\u001b[37m\u001b[0m \u001b[1m0s\u001b[0m 998us/step - binary_accuracy: 0.8936 - loss: 0.3857\n",
      "Epoch 40/100\n",
      "\u001b[1m43/43\u001b[0m \u001b[32m━━━━━━━━━━━━━━━━━━━━\u001b[0m\u001b[37m\u001b[0m \u001b[1m0s\u001b[0m 961us/step - binary_accuracy: 0.8202 - loss: 0.5611\n",
      "Epoch 41/100\n",
      "\u001b[1m43/43\u001b[0m \u001b[32m━━━━━━━━━━━━━━━━━━━━\u001b[0m\u001b[37m\u001b[0m \u001b[1m0s\u001b[0m 1ms/step - binary_accuracy: 0.8496 - loss: 0.4073 \n",
      "Epoch 42/100\n",
      "\u001b[1m43/43\u001b[0m \u001b[32m━━━━━━━━━━━━━━━━━━━━\u001b[0m\u001b[37m\u001b[0m \u001b[1m0s\u001b[0m 942us/step - binary_accuracy: 0.8908 - loss: 0.2707\n",
      "Epoch 43/100\n",
      "\u001b[1m43/43\u001b[0m \u001b[32m━━━━━━━━━━━━━━━━━━━━\u001b[0m\u001b[37m\u001b[0m \u001b[1m0s\u001b[0m 1ms/step - binary_accuracy: 0.8899 - loss: 0.3006 \n",
      "Epoch 44/100\n",
      "\u001b[1m43/43\u001b[0m \u001b[32m━━━━━━━━━━━━━━━━━━━━\u001b[0m\u001b[37m\u001b[0m \u001b[1m0s\u001b[0m 978us/step - binary_accuracy: 0.8331 - loss: 0.5921\n",
      "Epoch 45/100\n",
      "\u001b[1m43/43\u001b[0m \u001b[32m━━━━━━━━━━━━━━━━━━━━\u001b[0m\u001b[37m\u001b[0m \u001b[1m0s\u001b[0m 1ms/step - binary_accuracy: 0.8686 - loss: 0.3878 \n",
      "Epoch 46/100\n",
      "\u001b[1m43/43\u001b[0m \u001b[32m━━━━━━━━━━━━━━━━━━━━\u001b[0m\u001b[37m\u001b[0m \u001b[1m0s\u001b[0m 1ms/step - binary_accuracy: 0.8668 - loss: 0.3938 \n",
      "Epoch 47/100\n",
      "\u001b[1m43/43\u001b[0m \u001b[32m━━━━━━━━━━━━━━━━━━━━\u001b[0m\u001b[37m\u001b[0m \u001b[1m0s\u001b[0m 1ms/step - binary_accuracy: 0.8505 - loss: 0.4456 \n",
      "Epoch 48/100\n",
      "\u001b[1m43/43\u001b[0m \u001b[32m━━━━━━━━━━━━━━━━━━━━\u001b[0m\u001b[37m\u001b[0m \u001b[1m0s\u001b[0m 986us/step - binary_accuracy: 0.8595 - loss: 0.3248\n",
      "Epoch 49/100\n",
      "\u001b[1m43/43\u001b[0m \u001b[32m━━━━━━━━━━━━━━━━━━━━\u001b[0m\u001b[37m\u001b[0m \u001b[1m0s\u001b[0m 1ms/step - binary_accuracy: 0.8938 - loss: 0.3429 \n",
      "Epoch 50/100\n",
      "\u001b[1m43/43\u001b[0m \u001b[32m━━━━━━━━━━━━━━━━━━━━\u001b[0m\u001b[37m\u001b[0m \u001b[1m0s\u001b[0m 1ms/step - binary_accuracy: 0.8497 - loss: 0.3384 \n",
      "Epoch 51/100\n",
      "\u001b[1m43/43\u001b[0m \u001b[32m━━━━━━━━━━━━━━━━━━━━\u001b[0m\u001b[37m\u001b[0m \u001b[1m0s\u001b[0m 2ms/step - binary_accuracy: 0.8854 - loss: 0.3401\n",
      "Epoch 52/100\n",
      "\u001b[1m43/43\u001b[0m \u001b[32m━━━━━━━━━━━━━━━━━━━━\u001b[0m\u001b[37m\u001b[0m \u001b[1m0s\u001b[0m 1ms/step - binary_accuracy: 0.8797 - loss: 0.3322 \n",
      "Epoch 53/100\n",
      "\u001b[1m43/43\u001b[0m \u001b[32m━━━━━━━━━━━━━━━━━━━━\u001b[0m\u001b[37m\u001b[0m \u001b[1m0s\u001b[0m 970us/step - binary_accuracy: 0.9085 - loss: 0.2626\n",
      "Epoch 54/100\n",
      "\u001b[1m43/43\u001b[0m \u001b[32m━━━━━━━━━━━━━━━━━━━━\u001b[0m\u001b[37m\u001b[0m \u001b[1m0s\u001b[0m 963us/step - binary_accuracy: 0.9181 - loss: 0.2319\n",
      "Epoch 55/100\n",
      "\u001b[1m43/43\u001b[0m \u001b[32m━━━━━━━━━━━━━━━━━━━━\u001b[0m\u001b[37m\u001b[0m \u001b[1m0s\u001b[0m 1ms/step - binary_accuracy: 0.7943 - loss: 0.5852 \n",
      "Epoch 56/100\n",
      "\u001b[1m43/43\u001b[0m \u001b[32m━━━━━━━━━━━━━━━━━━━━\u001b[0m\u001b[37m\u001b[0m \u001b[1m0s\u001b[0m 1ms/step - binary_accuracy: 0.8766 - loss: 0.4323 \n",
      "Epoch 57/100\n",
      "\u001b[1m43/43\u001b[0m \u001b[32m━━━━━━━━━━━━━━━━━━━━\u001b[0m\u001b[37m\u001b[0m \u001b[1m0s\u001b[0m 981us/step - binary_accuracy: 0.8755 - loss: 0.3510\n",
      "Epoch 58/100\n",
      "\u001b[1m43/43\u001b[0m \u001b[32m━━━━━━━━━━━━━━━━━━━━\u001b[0m\u001b[37m\u001b[0m \u001b[1m0s\u001b[0m 989us/step - binary_accuracy: 0.8538 - loss: 0.4145\n",
      "Epoch 59/100\n",
      "\u001b[1m43/43\u001b[0m \u001b[32m━━━━━━━━━━━━━━━━━━━━\u001b[0m\u001b[37m\u001b[0m \u001b[1m0s\u001b[0m 1ms/step - binary_accuracy: 0.8808 - loss: 0.4552 \n",
      "Epoch 60/100\n",
      "\u001b[1m43/43\u001b[0m \u001b[32m━━━━━━━━━━━━━━━━━━━━\u001b[0m\u001b[37m\u001b[0m \u001b[1m0s\u001b[0m 995us/step - binary_accuracy: 0.8899 - loss: 0.3665\n",
      "Epoch 61/100\n",
      "\u001b[1m43/43\u001b[0m \u001b[32m━━━━━━━━━━━━━━━━━━━━\u001b[0m\u001b[37m\u001b[0m \u001b[1m0s\u001b[0m 1ms/step - binary_accuracy: 0.8989 - loss: 0.3016 \n",
      "Epoch 62/100\n",
      "\u001b[1m43/43\u001b[0m \u001b[32m━━━━━━━━━━━━━━━━━━━━\u001b[0m\u001b[37m\u001b[0m \u001b[1m0s\u001b[0m 1ms/step - binary_accuracy: 0.8883 - loss: 0.4585 \n",
      "Epoch 63/100\n",
      "\u001b[1m43/43\u001b[0m \u001b[32m━━━━━━━━━━━━━━━━━━━━\u001b[0m\u001b[37m\u001b[0m \u001b[1m0s\u001b[0m 1ms/step - binary_accuracy: 0.8813 - loss: 0.3376 \n",
      "Epoch 64/100\n",
      "\u001b[1m43/43\u001b[0m \u001b[32m━━━━━━━━━━━━━━━━━━━━\u001b[0m\u001b[37m\u001b[0m \u001b[1m0s\u001b[0m 1ms/step - binary_accuracy: 0.8922 - loss: 0.3905 \n",
      "Epoch 65/100\n",
      "\u001b[1m43/43\u001b[0m \u001b[32m━━━━━━━━━━━━━━━━━━━━\u001b[0m\u001b[37m\u001b[0m \u001b[1m0s\u001b[0m 1ms/step - binary_accuracy: 0.8601 - loss: 0.5164 \n",
      "Epoch 66/100\n",
      "\u001b[1m43/43\u001b[0m \u001b[32m━━━━━━━━━━━━━━━━━━━━\u001b[0m\u001b[37m\u001b[0m \u001b[1m0s\u001b[0m 1ms/step - binary_accuracy: 0.8503 - loss: 0.3899 \n",
      "Epoch 67/100\n",
      "\u001b[1m43/43\u001b[0m \u001b[32m━━━━━━━━━━━━━━━━━━━━\u001b[0m\u001b[37m\u001b[0m \u001b[1m0s\u001b[0m 992us/step - binary_accuracy: 0.8772 - loss: 0.3332\n",
      "Epoch 68/100\n",
      "\u001b[1m43/43\u001b[0m \u001b[32m━━━━━━━━━━━━━━━━━━━━\u001b[0m\u001b[37m\u001b[0m \u001b[1m0s\u001b[0m 1ms/step - binary_accuracy: 0.8785 - loss: 0.4312 \n",
      "Epoch 69/100\n",
      "\u001b[1m43/43\u001b[0m \u001b[32m━━━━━━━━━━━━━━━━━━━━\u001b[0m\u001b[37m\u001b[0m \u001b[1m0s\u001b[0m 991us/step - binary_accuracy: 0.8771 - loss: 0.5965\n",
      "Epoch 70/100\n",
      "\u001b[1m43/43\u001b[0m \u001b[32m━━━━━━━━━━━━━━━━━━━━\u001b[0m\u001b[37m\u001b[0m \u001b[1m0s\u001b[0m 1ms/step - binary_accuracy: 0.8656 - loss: 0.5114 \n",
      "Epoch 71/100\n",
      "\u001b[1m43/43\u001b[0m \u001b[32m━━━━━━━━━━━━━━━━━━━━\u001b[0m\u001b[37m\u001b[0m \u001b[1m0s\u001b[0m 964us/step - binary_accuracy: 0.8730 - loss: 0.4309\n",
      "Epoch 72/100\n",
      "\u001b[1m43/43\u001b[0m \u001b[32m━━━━━━━━━━━━━━━━━━━━\u001b[0m\u001b[37m\u001b[0m \u001b[1m0s\u001b[0m 1ms/step - binary_accuracy: 0.8529 - loss: 0.5749 \n",
      "Epoch 73/100\n",
      "\u001b[1m43/43\u001b[0m \u001b[32m━━━━━━━━━━━━━━━━━━━━\u001b[0m\u001b[37m\u001b[0m \u001b[1m0s\u001b[0m 1ms/step - binary_accuracy: 0.9001 - loss: 0.3289 \n",
      "Epoch 74/100\n",
      "\u001b[1m43/43\u001b[0m \u001b[32m━━━━━━━━━━━━━━━━━━━━\u001b[0m\u001b[37m\u001b[0m \u001b[1m0s\u001b[0m 932us/step - binary_accuracy: 0.9103 - loss: 0.3458\n",
      "Epoch 75/100\n",
      "\u001b[1m43/43\u001b[0m \u001b[32m━━━━━━━━━━━━━━━━━━━━\u001b[0m\u001b[37m\u001b[0m \u001b[1m0s\u001b[0m 1ms/step - binary_accuracy: 0.8880 - loss: 0.4765 \n",
      "Epoch 76/100\n",
      "\u001b[1m43/43\u001b[0m \u001b[32m━━━━━━━━━━━━━━━━━━━━\u001b[0m\u001b[37m\u001b[0m \u001b[1m0s\u001b[0m 1ms/step - binary_accuracy: 0.8845 - loss: 0.3820 \n",
      "Epoch 77/100\n",
      "\u001b[1m43/43\u001b[0m \u001b[32m━━━━━━━━━━━━━━━━━━━━\u001b[0m\u001b[37m\u001b[0m \u001b[1m0s\u001b[0m 1ms/step - binary_accuracy: 0.9026 - loss: 0.3634 \n",
      "Epoch 78/100\n",
      "\u001b[1m43/43\u001b[0m \u001b[32m━━━━━━━━━━━━━━━━━━━━\u001b[0m\u001b[37m\u001b[0m \u001b[1m0s\u001b[0m 1ms/step - binary_accuracy: 0.8957 - loss: 0.4852 \n",
      "Epoch 79/100\n",
      "\u001b[1m43/43\u001b[0m \u001b[32m━━━━━━━━━━━━━━━━━━━━\u001b[0m\u001b[37m\u001b[0m \u001b[1m0s\u001b[0m 1ms/step - binary_accuracy: 0.8723 - loss: 0.3759 \n",
      "Epoch 80/100\n",
      "\u001b[1m43/43\u001b[0m \u001b[32m━━━━━━━━━━━━━━━━━━━━\u001b[0m\u001b[37m\u001b[0m \u001b[1m0s\u001b[0m 1ms/step - binary_accuracy: 0.9067 - loss: 0.3879 \n",
      "Epoch 81/100\n",
      "\u001b[1m43/43\u001b[0m \u001b[32m━━━━━━━━━━━━━━━━━━━━\u001b[0m\u001b[37m\u001b[0m \u001b[1m0s\u001b[0m 1ms/step - binary_accuracy: 0.8508 - loss: 0.5995 \n",
      "Epoch 82/100\n",
      "\u001b[1m43/43\u001b[0m \u001b[32m━━━━━━━━━━━━━━━━━━━━\u001b[0m\u001b[37m\u001b[0m \u001b[1m0s\u001b[0m 1000us/step - binary_accuracy: 0.8843 - loss: 0.4522\n",
      "Epoch 83/100\n",
      "\u001b[1m43/43\u001b[0m \u001b[32m━━━━━━━━━━━━━━━━━━━━\u001b[0m\u001b[37m\u001b[0m \u001b[1m0s\u001b[0m 1ms/step - binary_accuracy: 0.8969 - loss: 0.3325 \n",
      "Epoch 84/100\n",
      "\u001b[1m43/43\u001b[0m \u001b[32m━━━━━━━━━━━━━━━━━━━━\u001b[0m\u001b[37m\u001b[0m \u001b[1m0s\u001b[0m 1ms/step - binary_accuracy: 0.9055 - loss: 0.3312 \n",
      "Epoch 85/100\n",
      "\u001b[1m43/43\u001b[0m \u001b[32m━━━━━━━━━━━━━━━━━━━━\u001b[0m\u001b[37m\u001b[0m \u001b[1m0s\u001b[0m 1ms/step - binary_accuracy: 0.8776 - loss: 0.3898 \n",
      "Epoch 86/100\n",
      "\u001b[1m43/43\u001b[0m \u001b[32m━━━━━━━━━━━━━━━━━━━━\u001b[0m\u001b[37m\u001b[0m \u001b[1m0s\u001b[0m 1ms/step - binary_accuracy: 0.9168 - loss: 0.3136 \n",
      "Epoch 87/100\n",
      "\u001b[1m43/43\u001b[0m \u001b[32m━━━━━━━━━━━━━━━━━━━━\u001b[0m\u001b[37m\u001b[0m \u001b[1m0s\u001b[0m 946us/step - binary_accuracy: 0.8581 - loss: 0.3669\n",
      "Epoch 88/100\n",
      "\u001b[1m43/43\u001b[0m \u001b[32m━━━━━━━━━━━━━━━━━━━━\u001b[0m\u001b[37m\u001b[0m \u001b[1m0s\u001b[0m 1ms/step - binary_accuracy: 0.9021 - loss: 0.3892 \n",
      "Epoch 89/100\n",
      "\u001b[1m43/43\u001b[0m \u001b[32m━━━━━━━━━━━━━━━━━━━━\u001b[0m\u001b[37m\u001b[0m \u001b[1m0s\u001b[0m 1ms/step - binary_accuracy: 0.9150 - loss: 0.3621 \n",
      "Epoch 90/100\n",
      "\u001b[1m43/43\u001b[0m \u001b[32m━━━━━━━━━━━━━━━━━━━━\u001b[0m\u001b[37m\u001b[0m \u001b[1m0s\u001b[0m 953us/step - binary_accuracy: 0.8838 - loss: 0.4111\n",
      "Epoch 91/100\n",
      "\u001b[1m43/43\u001b[0m \u001b[32m━━━━━━━━━━━━━━━━━━━━\u001b[0m\u001b[37m\u001b[0m \u001b[1m0s\u001b[0m 1ms/step - binary_accuracy: 0.8833 - loss: 0.4234 \n",
      "Epoch 92/100\n",
      "\u001b[1m43/43\u001b[0m \u001b[32m━━━━━━━━━━━━━━━━━━━━\u001b[0m\u001b[37m\u001b[0m \u001b[1m0s\u001b[0m 1ms/step - binary_accuracy: 0.9086 - loss: 0.3209 \n",
      "Epoch 93/100\n",
      "\u001b[1m43/43\u001b[0m \u001b[32m━━━━━━━━━━━━━━━━━━━━\u001b[0m\u001b[37m\u001b[0m \u001b[1m0s\u001b[0m 1ms/step - binary_accuracy: 0.9265 - loss: 0.2622 \n",
      "Epoch 94/100\n",
      "\u001b[1m43/43\u001b[0m \u001b[32m━━━━━━━━━━━━━━━━━━━━\u001b[0m\u001b[37m\u001b[0m \u001b[1m0s\u001b[0m 1ms/step - binary_accuracy: 0.8250 - loss: 0.4537 \n",
      "Epoch 95/100\n",
      "\u001b[1m43/43\u001b[0m \u001b[32m━━━━━━━━━━━━━━━━━━━━\u001b[0m\u001b[37m\u001b[0m \u001b[1m0s\u001b[0m 1ms/step - binary_accuracy: 0.8632 - loss: 0.4456 \n",
      "Epoch 96/100\n",
      "\u001b[1m43/43\u001b[0m \u001b[32m━━━━━━━━━━━━━━━━━━━━\u001b[0m\u001b[37m\u001b[0m \u001b[1m0s\u001b[0m 1ms/step - binary_accuracy: 0.9009 - loss: 0.3546 \n",
      "Epoch 97/100\n",
      "\u001b[1m43/43\u001b[0m \u001b[32m━━━━━━━━━━━━━━━━━━━━\u001b[0m\u001b[37m\u001b[0m \u001b[1m0s\u001b[0m 1ms/step - binary_accuracy: 0.8994 - loss: 0.4336 \n",
      "Epoch 98/100\n",
      "\u001b[1m43/43\u001b[0m \u001b[32m━━━━━━━━━━━━━━━━━━━━\u001b[0m\u001b[37m\u001b[0m \u001b[1m0s\u001b[0m 1ms/step - binary_accuracy: 0.8935 - loss: 0.4654 \n",
      "Epoch 99/100\n",
      "\u001b[1m43/43\u001b[0m \u001b[32m━━━━━━━━━━━━━━━━━━━━\u001b[0m\u001b[37m\u001b[0m \u001b[1m0s\u001b[0m 989us/step - binary_accuracy: 0.8707 - loss: 0.4937\n",
      "Epoch 100/100\n",
      "\u001b[1m43/43\u001b[0m \u001b[32m━━━━━━━━━━━━━━━━━━━━\u001b[0m\u001b[37m\u001b[0m \u001b[1m0s\u001b[0m 1ms/step - binary_accuracy: 0.8619 - loss: 0.6370 \n"
     ]
    },
    {
     "data": {
      "text/plain": [
       "<keras.src.callbacks.history.History at 0x7f859820eb50>"
      ]
     },
     "execution_count": 11,
     "metadata": {},
     "output_type": "execute_result"
    }
   ],
   "source": [
    "neural_network.fit(X_train, y_train, batch_size=10, epochs=100)"
   ]
  },
  {
   "cell_type": "code",
   "execution_count": 12,
   "metadata": {},
   "outputs": [
    {
     "data": {
      "text/plain": [
       "[array([[-1.63658068e-01, -3.12447064e-02,  1.56689167e-01,\n",
       "         -2.44047288e-02,  1.06754087e-01, -1.27519548e-01,\n",
       "         -5.83337583e-02,  1.01867124e-01,  1.53072804e-01,\n",
       "          1.38503537e-01,  4.60602418e-02,  6.28684415e-03,\n",
       "         -5.82733331e-03, -1.38142481e-01, -4.52766567e-02,\n",
       "         -2.51219869e-01],\n",
       "        [-1.56575143e-01,  1.64604094e-02, -1.80052862e-01,\n",
       "         -4.48484533e-02,  3.93997848e-01, -1.43009335e-01,\n",
       "          8.35245010e-03,  1.56059071e-01,  1.08455338e-01,\n",
       "          2.62407064e-01,  2.63001889e-01,  1.35325594e-02,\n",
       "         -2.37664338e-02, -3.59094322e-01,  9.66852233e-02,\n",
       "         -2.50179082e-01],\n",
       "        [ 1.36393979e-01, -1.68737005e-02, -1.78779706e-01,\n",
       "         -3.47447395e-02,  2.23452047e-01,  1.04387216e-01,\n",
       "         -4.56361175e-02, -7.14732185e-02,  4.62371111e-02,\n",
       "         -3.13957669e-02,  1.24096766e-01,  8.10099542e-02,\n",
       "         -6.23096116e-02, -1.01865754e-01,  1.43780813e-01,\n",
       "         -3.87697279e-01],\n",
       "        [ 9.36817080e-02,  6.25354564e-03, -1.06100671e-01,\n",
       "         -3.85932811e-02, -7.92539790e-02,  9.94823426e-02,\n",
       "         -2.89791524e-02, -8.40965882e-02, -5.90638034e-02,\n",
       "         -1.92502476e-02,  1.42128095e-01,  8.35203379e-03,\n",
       "          2.55651157e-02,  7.05382898e-02,  6.83222786e-02,\n",
       "          1.92849502e-01],\n",
       "        [-6.19621687e-02,  2.01931857e-02, -4.11931835e-02,\n",
       "          4.75026406e-02,  3.01067643e-02, -1.53876841e-01,\n",
       "         -3.71347442e-02,  8.33824947e-02,  1.13169901e-01,\n",
       "          9.75096673e-02,  4.82293293e-02,  6.97035994e-03,\n",
       "          2.46661119e-02, -1.41032323e-01, -3.11095137e-02,\n",
       "         -3.45041335e-01],\n",
       "        [ 1.01369694e-01,  8.16137716e-02, -1.87609941e-01,\n",
       "         -1.72223933e-02, -1.19924128e-01, -2.51222610e-01,\n",
       "         -4.96229753e-02,  8.78619775e-02,  6.31745085e-02,\n",
       "         -3.79294455e-02,  4.70964937e-03, -5.04155792e-02,\n",
       "         -1.32311024e-02,  2.35441685e-01,  1.29170850e-01,\n",
       "         -2.71838456e-01],\n",
       "        [ 4.14764620e-02,  3.17424126e-02,  4.98526506e-02,\n",
       "          3.43869813e-02, -1.56869635e-01, -8.28269124e-02,\n",
       "         -5.04099987e-02,  1.09351844e-01,  5.90370521e-02,\n",
       "          2.14841999e-02,  1.33641973e-01, -3.64073478e-02,\n",
       "          9.04406682e-02, -1.74452439e-02,  4.29548249e-02,\n",
       "         -2.51043886e-01],\n",
       "        [-7.31211975e-02, -2.67676562e-01, -1.76036894e-01,\n",
       "         -2.64126062e-02, -2.14896381e-01, -1.12467118e-01,\n",
       "         -4.79074158e-02,  1.11158900e-01, -1.13266692e-01,\n",
       "          1.88837484e-01,  1.13099776e-01, -7.17954636e-02,\n",
       "         -9.37487409e-02, -1.97326824e-01, -1.06379747e-01,\n",
       "         -8.43806043e-02],\n",
       "        [ 1.03740022e-01,  5.07022720e-03, -3.79544077e-03,\n",
       "         -3.19332965e-02,  1.36753753e-01, -1.73944943e-02,\n",
       "         -2.13399585e-02, -3.19950022e-02, -4.55757454e-02,\n",
       "         -1.97634231e-02, -2.66998094e-02, -2.67331279e-03,\n",
       "          8.77226423e-03,  9.21255499e-02,  4.16567586e-02,\n",
       "          8.49414319e-02],\n",
       "        [ 1.33032799e-01,  3.14962268e-02, -8.36877748e-02,\n",
       "         -9.48701054e-03,  7.07180202e-02,  1.27218857e-01,\n",
       "         -2.98775081e-02, -1.81410953e-01, -4.93165404e-02,\n",
       "         -2.75919825e-01, -3.12664628e-01,  3.61387618e-02,\n",
       "         -6.38714060e-02,  3.29367399e-01,  4.01007123e-02,\n",
       "         -2.13493973e-01],\n",
       "        [ 3.86188179e-02,  9.97527689e-02, -1.05552323e-01,\n",
       "          3.38615440e-02,  2.12944955e-01, -1.55436888e-01,\n",
       "         -4.33585644e-02, -2.50716582e-02, -7.58544682e-03,\n",
       "         -3.87601294e-02,  9.45127606e-02, -1.26200393e-01,\n",
       "         -3.88935357e-02, -1.31468130e-02,  8.57871026e-02,\n",
       "          2.37967670e-01],\n",
       "        [-2.17520278e-02,  1.93852801e-02, -1.40236784e-02,\n",
       "         -8.55297968e-03,  5.66725293e-03, -1.25608176e-01,\n",
       "         -7.06943544e-03, -5.23722265e-03,  9.08347443e-02,\n",
       "         -9.63510051e-02, -8.55015144e-02,  6.54943883e-02,\n",
       "          1.36086426e-03,  1.84431285e-01,  8.99721310e-03,\n",
       "         -3.27372074e-01],\n",
       "        [ 6.44244999e-02, -5.49000800e-02,  1.35181863e-02,\n",
       "         -4.98636030e-02, -1.86461434e-02,  1.16412356e-01,\n",
       "         -2.30023521e-03, -1.05845206e-03, -7.90932477e-02,\n",
       "          9.00225565e-02,  8.56301486e-02, -5.34860492e-02,\n",
       "         -1.81486327e-02,  2.33247466e-02, -4.76599932e-02,\n",
       "         -1.27555221e-01],\n",
       "        [-6.17476404e-01, -2.14018822e-02, -1.01128258e-01,\n",
       "         -2.07454320e-02,  6.82643205e-02, -8.30998063e-01,\n",
       "         -2.50609848e-03,  5.74755073e-01,  1.27898201e-01,\n",
       "          3.02735835e-01,  2.62205690e-01, -1.57478377e-01,\n",
       "         -3.69796753e-02, -3.40767413e-01, -9.96495038e-03,\n",
       "         -3.55553985e-01],\n",
       "        [-2.57119864e-01, -1.21741621e-02, -9.87674519e-02,\n",
       "         -2.80922297e-02,  2.89163530e-01, -8.25974122e-02,\n",
       "         -4.95398156e-02,  1.40765503e-01,  8.30388889e-02,\n",
       "          3.21894318e-01,  4.23171818e-01, -2.28914991e-02,\n",
       "         -8.28916654e-02, -5.15037835e-01,  1.12738334e-01,\n",
       "          1.19437821e-01],\n",
       "        [-3.75974745e-01, -2.05079585e-01, -1.28472894e-01,\n",
       "          1.64183229e-03,  1.42635956e-01, -4.07264829e-01,\n",
       "         -1.57464482e-02,  3.63168210e-01,  2.34982401e-01,\n",
       "          4.69474375e-01,  5.10077119e-01,  9.48316976e-02,\n",
       "         -8.48504379e-02, -2.62642145e-01, -6.75940216e-02,\n",
       "         -3.27228010e-02],\n",
       "        [ 1.33410409e-01, -2.77533289e-02, -1.44873649e-01,\n",
       "          3.73681821e-02,  5.15156649e-02,  8.25401545e-02,\n",
       "         -1.87771004e-02, -1.68770760e-01, -2.40181714e-01,\n",
       "         -2.47387215e-01, -2.86854059e-01,  8.43231529e-02,\n",
       "         -1.02778133e-02,  3.54906321e-01, -2.14641541e-02,\n",
       "         -1.43072516e-01],\n",
       "        [ 1.45561859e-01, -7.19347224e-02, -1.09424859e-01,\n",
       "         -1.11778378e-02,  4.58528787e-01,  2.65010059e-01,\n",
       "          1.13018816e-02, -2.41877228e-01, -2.90054679e-01,\n",
       "         -8.03168304e-03, -2.29128912e-01, -8.18527713e-02,\n",
       "          2.84630377e-02, -5.05550742e-01,  3.76452990e-02,\n",
       "          4.23002899e-01],\n",
       "        [-1.04033746e-01,  4.19649601e-01, -1.35529548e-01,\n",
       "         -3.25829871e-02, -2.99533904e-02, -8.02313015e-02,\n",
       "         -4.23345417e-02,  4.20363337e-01,  1.84384644e-01,\n",
       "          1.36107162e-01,  5.18680036e-01, -2.30131611e-01,\n",
       "         -1.00973003e-01, -3.84577125e-01,  4.17862415e-01,\n",
       "          8.42932016e-02],\n",
       "        [-3.16188067e-01, -9.81619880e-02, -8.85177776e-02,\n",
       "         -4.47049253e-02,  2.95832068e-01, -3.83273035e-01,\n",
       "         -5.19745387e-02,  2.17103362e-01,  1.30241856e-01,\n",
       "          3.64966214e-01,  4.27640676e-01,  2.34301873e-02,\n",
       "         -4.15914459e-03, -6.30786002e-01,  2.29750320e-01,\n",
       "          2.71246016e-01],\n",
       "        [-1.86596200e-01, -4.83652577e-02,  1.96864292e-01,\n",
       "         -4.42635193e-02,  1.43995032e-01, -2.54200965e-01,\n",
       "         -4.60092351e-02,  1.69489890e-01,  2.61320174e-01,\n",
       "          1.84049860e-01,  9.28801894e-02, -7.42021343e-03,\n",
       "         -7.27975816e-02, -1.69468313e-01, -6.78800493e-02,\n",
       "         -3.85898024e-01],\n",
       "        [-2.07788914e-01,  5.39730350e-03, -2.03581572e-01,\n",
       "         -3.35572734e-02,  3.20112467e-01, -2.34851331e-01,\n",
       "         -1.10195077e-03,  2.49740228e-01,  1.61945000e-01,\n",
       "          3.59180719e-01,  3.67011666e-01,  1.20522175e-03,\n",
       "         -8.67016092e-02, -5.00979543e-01,  1.43902287e-01,\n",
       "         -3.97884041e-01],\n",
       "        [ 6.11134768e-02, -4.38271239e-02, -1.85202643e-01,\n",
       "         -4.13071029e-02,  1.27386898e-01,  7.07054064e-02,\n",
       "          9.19217127e-04,  2.57455111e-02,  1.53935075e-01,\n",
       "          3.24730761e-02,  2.37247631e-01,  4.01430987e-02,\n",
       "         -7.93489814e-02, -1.38844982e-01,  1.58453986e-01,\n",
       "         -3.64150554e-01],\n",
       "        [-4.87851650e-02, -3.41835767e-02, -7.59508386e-02,\n",
       "         -3.05988677e-02, -8.62113163e-02, -8.31284374e-03,\n",
       "         -2.79183444e-02,  6.62252530e-02, -1.00972606e-02,\n",
       "          6.41493350e-02,  1.81465149e-01, -4.51029949e-02,\n",
       "         -6.11079410e-02, -5.70613556e-02,  2.84454823e-02,\n",
       "          1.97363406e-01],\n",
       "        [ 1.02171630e-01,  1.52053460e-01, -4.52665500e-02,\n",
       "         -3.15052047e-02,  1.53421193e-01,  7.20181763e-02,\n",
       "         -4.41945605e-02,  3.18131386e-03,  1.71080351e-01,\n",
       "         -1.48541089e-02,  2.39532173e-01, -1.26297459e-01,\n",
       "         -7.89295360e-02, -2.63657004e-01,  3.50505948e-01,\n",
       "         -1.26321942e-01],\n",
       "        [ 1.17174797e-01, -5.69366738e-02,  5.49135171e-03,\n",
       "          1.24129429e-02,  2.04820424e-01, -9.96230841e-02,\n",
       "         -7.71296036e-04, -1.80308297e-02,  8.44785273e-02,\n",
       "          3.31205837e-02,  1.39087304e-01, -1.73431113e-02,\n",
       "         -1.53538445e-02,  9.82850492e-02, -1.51105121e-01,\n",
       "         -7.42678642e-01],\n",
       "        [ 2.64059216e-01, -3.32608931e-02, -1.98097471e-02,\n",
       "          4.26710956e-02,  1.15946956e-01, -2.29349390e-01,\n",
       "         -2.96635320e-03, -4.99822535e-02, -1.44100478e-02,\n",
       "          3.06018759e-02,  2.17456575e-02, -5.17139025e-02,\n",
       "          4.98489030e-02,  8.31256714e-03, -1.89578421e-02,\n",
       "         -1.01590812e-01],\n",
       "        [-4.06968147e-02,  1.00923017e-01,  3.18508223e-02,\n",
       "          3.31782177e-03,  6.40262142e-02, -2.63664395e-01,\n",
       "         -3.92508619e-02,  2.69371737e-02, -1.04361519e-01,\n",
       "         -2.29795486e-01, -3.17622840e-01, -8.42788443e-02,\n",
       "         -6.17859303e-04,  1.75087839e-01,  1.65510625e-02,\n",
       "         -1.26495719e-01],\n",
       "        [ 1.07528187e-01, -5.04348390e-02, -3.19458880e-02,\n",
       "          4.21689823e-03, -8.75892350e-04, -6.33741170e-02,\n",
       "         -5.57526425e-02, -1.31467748e-02,  1.16397403e-01,\n",
       "          1.97249074e-02,  2.16467828e-01, -9.66429412e-02,\n",
       "         -7.51855522e-02, -1.43934622e-01, -1.61439791e-01,\n",
       "          1.05369024e-01],\n",
       "        [-3.33866864e-01, -7.35746920e-02, -4.12648879e-02,\n",
       "          2.80879997e-02, -1.28863335e-01, -1.98561534e-01,\n",
       "         -3.17670889e-02,  1.84296399e-01,  1.95890311e-02,\n",
       "          1.99996069e-01,  2.04640627e-01, -4.11288589e-02,\n",
       "         -9.05464143e-02, -2.47193590e-01, -5.92699535e-02,\n",
       "         -3.56980562e-01]], dtype=float32),\n",
       " array([ 0.24954006, -0.04652977, -0.1287145 ,  0.        ,  0.3903364 ,\n",
       "         0.33047456, -0.01486079, -0.36171523, -0.06798461, -0.3230133 ,\n",
       "        -0.22917506,  0.13058802, -0.04638995,  0.07570046,  0.05858183,\n",
       "        -0.1753293 ], dtype=float32)]"
      ]
     },
     "execution_count": 12,
     "metadata": {},
     "output_type": "execute_result"
    }
   ],
   "source": [
    "weights_0 = neural_network.layers[0].get_weights()\n",
    "weights_0"
   ]
  },
  {
   "cell_type": "code",
   "execution_count": 23,
   "metadata": {},
   "outputs": [
    {
     "data": {
      "text/plain": [
       "16"
      ]
     },
     "execution_count": 23,
     "metadata": {},
     "output_type": "execute_result"
    }
   ],
   "source": [
    "len(weights_0[1])"
   ]
  },
  {
   "cell_type": "code",
   "execution_count": 24,
   "metadata": {},
   "outputs": [
    {
     "data": {
      "text/plain": [
       "[array([[-4.43147682e-02,  3.26418765e-02, -2.42386684e-01,\n",
       "          1.25700802e-01,  1.61982670e-01, -7.91010708e-02,\n",
       "         -7.54338577e-02, -1.58879049e-02,  3.19909863e-02,\n",
       "         -8.35594013e-02, -2.74772286e-01, -5.46977855e-02,\n",
       "         -9.11232084e-02, -2.80635525e-02, -2.89230589e-02,\n",
       "          9.22306702e-02],\n",
       "        [-5.23336232e-02, -5.07883430e-02, -1.37046918e-01,\n",
       "          2.03695744e-02, -7.32372850e-02,  6.17753481e-03,\n",
       "          7.20075564e-03,  3.43147181e-02,  3.03229690e-02,\n",
       "          5.96521273e-02, -1.22739509e-01, -1.81742348e-02,\n",
       "         -3.57613899e-02,  6.10783584e-02, -5.84022403e-02,\n",
       "         -7.59185925e-02],\n",
       "        [-2.12399922e-02,  3.65587859e-03, -5.20282947e-02,\n",
       "         -1.19092122e-01, -2.62045469e-02, -1.00312248e-01,\n",
       "          8.09229910e-02, -1.22211084e-01,  3.74615118e-02,\n",
       "         -7.38085359e-02,  8.95851031e-02, -1.01659466e-02,\n",
       "          8.71178508e-03, -4.53269109e-03,  5.83144894e-04,\n",
       "         -1.72966614e-01],\n",
       "        [ 3.32057588e-02, -1.83044896e-02, -2.99681909e-02,\n",
       "         -3.09372079e-02,  1.50138773e-02, -2.60789040e-02,\n",
       "          2.76412405e-02, -1.70744173e-02,  2.15316303e-02,\n",
       "          4.45504077e-02,  1.99968256e-02,  4.04350869e-02,\n",
       "         -3.28612328e-03,  3.92071344e-02, -1.01658925e-02,\n",
       "         -1.09589212e-02],\n",
       "        [-6.03078790e-02, -5.22492193e-02,  3.33184935e-02,\n",
       "         -2.57696301e-01, -2.38820806e-01,  2.77591318e-01,\n",
       "         -1.37522109e-02,  2.53613651e-01, -5.94502464e-02,\n",
       "         -6.35173023e-02,  1.38574913e-01, -7.62816519e-03,\n",
       "         -9.23331156e-02, -6.11626953e-02, -1.67629309e-02,\n",
       "         -3.45521480e-01],\n",
       "        [-3.89412567e-02,  1.74855217e-02, -2.18223095e-01,\n",
       "          4.50243130e-02,  1.22512311e-01, -6.79951757e-02,\n",
       "         -1.57310233e-01,  3.20773497e-02,  1.90281635e-03,\n",
       "         -6.54406920e-02, -4.58641082e-01, -4.57647443e-02,\n",
       "         -4.40560356e-02, -7.47885630e-02, -4.35045920e-02,\n",
       "          1.00054495e-01],\n",
       "        [-4.64364439e-02, -1.28669366e-02,  9.44572687e-03,\n",
       "         -3.63220200e-02, -1.90947559e-02,  2.55516469e-02,\n",
       "         -1.31683694e-02, -5.14845289e-02, -3.09617650e-02,\n",
       "          3.02985255e-02, -4.82856948e-03,  3.95954587e-02,\n",
       "         -3.74987535e-02,  2.28724442e-02, -5.09122806e-03,\n",
       "         -4.54987213e-03],\n",
       "        [-3.05994861e-02, -4.12687436e-02,  1.25378013e-01,\n",
       "         -1.47057638e-01, -2.21296296e-01,  1.55432522e-01,\n",
       "          9.88030285e-02,  2.15627387e-01,  2.08340567e-02,\n",
       "         -2.19835644e-03,  2.49385670e-01, -5.24057224e-02,\n",
       "         -3.93602159e-03,  4.51614242e-03, -1.97597016e-02,\n",
       "         -1.15582973e-01],\n",
       "        [-4.96106744e-02,  3.67771126e-02, -7.02090487e-02,\n",
       "         -2.04803348e-01, -6.52347952e-02,  8.68663862e-02,\n",
       "          9.13859084e-02,  4.20250520e-02, -4.03821059e-02,\n",
       "          6.75664395e-02,  5.31906039e-02, -2.11411808e-02,\n",
       "         -1.82268262e-01,  3.48273665e-02, -6.96766153e-02,\n",
       "         -2.76961833e-01],\n",
       "        [ 2.03809179e-02, -2.65066251e-02,  5.89361303e-02,\n",
       "         -4.72908206e-02, -4.73449565e-02,  1.36183649e-01,\n",
       "          5.24280071e-02,  1.22450985e-01, -9.56685618e-02,\n",
       "         -7.65295103e-02,  7.06246644e-02,  2.66047195e-04,\n",
       "          2.49465145e-02, -7.14312866e-02,  6.98470336e-04,\n",
       "         -8.03586841e-02],\n",
       "        [-1.25549296e-02, -2.00100914e-02, -2.89173536e-02,\n",
       "          2.91183107e-02, -3.07458080e-02,  8.28594938e-02,\n",
       "          4.05868562e-03,  5.08714840e-02, -3.33703235e-02,\n",
       "         -2.72969576e-03,  3.93663198e-02, -4.70239520e-02,\n",
       "          8.55736248e-03, -3.20084672e-03, -5.28972745e-02,\n",
       "          6.49235547e-02],\n",
       "        [ 1.73713677e-02, -1.36486217e-01, -2.86247462e-01,\n",
       "         -6.65287077e-02,  1.13237090e-01,  1.05791897e-01,\n",
       "          1.05842441e-01,  6.20539077e-02,  1.04833944e-02,\n",
       "         -1.10653035e-01, -3.18538517e-01,  1.39772017e-02,\n",
       "         -7.76217738e-03, -1.05328359e-01, -8.00753608e-02,\n",
       "         -1.92798730e-02],\n",
       "        [-2.95175910e-02, -2.81193200e-02, -6.46987092e-03,\n",
       "         -5.65489717e-02, -8.56418833e-02,  6.28589243e-02,\n",
       "         -6.08782331e-03,  1.55148571e-02, -9.94359422e-03,\n",
       "          7.84508139e-02,  1.17322747e-02, -1.38193946e-02,\n",
       "         -4.58574705e-02, -5.69152832e-03, -3.24323471e-03,\n",
       "          7.94754550e-02],\n",
       "        [-1.84062663e-02, -5.50258718e-02,  9.61271003e-02,\n",
       "         -6.25312850e-02,  3.44755081e-03,  6.39092848e-02,\n",
       "          2.33868271e-01,  2.82662995e-02, -5.54919653e-02,\n",
       "         -1.03603974e-01,  1.37950018e-01, -4.73506935e-02,\n",
       "         -1.06542774e-01, -2.09118396e-01, -2.92620827e-02,\n",
       "         -8.88769552e-02],\n",
       "        [-2.46140622e-02, -5.72184585e-02, -7.11509809e-02,\n",
       "          5.54415435e-02,  1.22149959e-01,  1.56326573e-02,\n",
       "         -9.27265361e-02,  2.10381504e-02, -3.39364284e-03,\n",
       "          9.10768956e-02, -2.33979180e-01, -3.42850462e-02,\n",
       "         -4.36243527e-02,  1.01055317e-01,  6.82531996e-03,\n",
       "          4.47594412e-02],\n",
       "        [ 1.70197077e-02, -5.61131444e-03,  2.47328207e-02,\n",
       "          3.84518467e-02,  1.96213946e-01, -1.41332522e-02,\n",
       "         -4.20367010e-02,  3.21614705e-02, -3.73968035e-02,\n",
       "         -3.71762812e-02, -7.94536471e-02, -3.63869108e-02,\n",
       "         -2.71778181e-02, -4.25821953e-02,  5.80961024e-03,\n",
       "         -7.63711846e-03]], dtype=float32),\n",
       " array([-0.01881625, -0.03215637, -0.02500019,  0.10504349,  0.07626235,\n",
       "        -0.22041412, -0.1823682 , -0.20556158,  0.08126571, -0.20240489,\n",
       "        -0.2063523 , -0.02108147, -0.2717636 , -0.20172822, -0.02390087,\n",
       "         0.14529969], dtype=float32)]"
      ]
     },
     "execution_count": 24,
     "metadata": {},
     "output_type": "execute_result"
    }
   ],
   "source": [
    "weights_1 = neural_network.layers[1].get_weights()\n",
    "weights_1"
   ]
  },
  {
   "cell_type": "code",
   "execution_count": 25,
   "metadata": {},
   "outputs": [
    {
     "data": {
      "text/plain": [
       "[array([[-0.3158318 ],\n",
       "        [-0.4084123 ],\n",
       "        [ 0.14549132],\n",
       "        [ 0.21352093],\n",
       "        [ 0.2734082 ],\n",
       "        [-0.27036807],\n",
       "        [ 0.35809767],\n",
       "        [-0.2204675 ],\n",
       "        [ 0.01439878],\n",
       "        [-0.17102905],\n",
       "        [ 0.28273654],\n",
       "        [-0.19560966],\n",
       "        [-0.30072686],\n",
       "        [-0.09608571],\n",
       "        [-0.5417001 ],\n",
       "        [ 0.2094365 ]], dtype=float32),\n",
       " array([0.17486717], dtype=float32)]"
      ]
     },
     "execution_count": 25,
     "metadata": {},
     "output_type": "execute_result"
    }
   ],
   "source": [
    "weights_2 = neural_network.layers[2].get_weights()\n",
    "weights_2"
   ]
  },
  {
   "cell_type": "code",
   "execution_count": 13,
   "metadata": {},
   "outputs": [
    {
     "name": "stdout",
     "output_type": "stream",
     "text": [
      "\u001b[1m5/5\u001b[0m \u001b[32m━━━━━━━━━━━━━━━━━━━━\u001b[0m\u001b[37m\u001b[0m \u001b[1m0s\u001b[0m 8ms/step \n"
     ]
    }
   ],
   "source": [
    "previsions = neural_network.predict(X_test)"
   ]
  },
  {
   "cell_type": "code",
   "execution_count": 14,
   "metadata": {},
   "outputs": [],
   "source": [
    "previsions = (previsions) > 0.5"
   ]
  },
  {
   "cell_type": "code",
   "execution_count": 15,
   "metadata": {},
   "outputs": [
    {
     "data": {
      "text/html": [
       "<div>\n",
       "<style scoped>\n",
       "    .dataframe tbody tr th:only-of-type {\n",
       "        vertical-align: middle;\n",
       "    }\n",
       "\n",
       "    .dataframe tbody tr th {\n",
       "        vertical-align: top;\n",
       "    }\n",
       "\n",
       "    .dataframe thead th {\n",
       "        text-align: right;\n",
       "    }\n",
       "</style>\n",
       "<table border=\"1\" class=\"dataframe\">\n",
       "  <thead>\n",
       "    <tr style=\"text-align: right;\">\n",
       "      <th></th>\n",
       "      <th>0</th>\n",
       "    </tr>\n",
       "  </thead>\n",
       "  <tbody>\n",
       "    <tr>\n",
       "      <th>79</th>\n",
       "      <td>1</td>\n",
       "    </tr>\n",
       "    <tr>\n",
       "      <th>81</th>\n",
       "      <td>1</td>\n",
       "    </tr>\n",
       "    <tr>\n",
       "      <th>419</th>\n",
       "      <td>1</td>\n",
       "    </tr>\n",
       "    <tr>\n",
       "      <th>216</th>\n",
       "      <td>1</td>\n",
       "    </tr>\n",
       "    <tr>\n",
       "      <th>482</th>\n",
       "      <td>1</td>\n",
       "    </tr>\n",
       "    <tr>\n",
       "      <th>...</th>\n",
       "      <td>...</td>\n",
       "    </tr>\n",
       "    <tr>\n",
       "      <th>412</th>\n",
       "      <td>1</td>\n",
       "    </tr>\n",
       "    <tr>\n",
       "      <th>348</th>\n",
       "      <td>1</td>\n",
       "    </tr>\n",
       "    <tr>\n",
       "      <th>353</th>\n",
       "      <td>0</td>\n",
       "    </tr>\n",
       "    <tr>\n",
       "      <th>189</th>\n",
       "      <td>1</td>\n",
       "    </tr>\n",
       "    <tr>\n",
       "      <th>184</th>\n",
       "      <td>0</td>\n",
       "    </tr>\n",
       "  </tbody>\n",
       "</table>\n",
       "<p>143 rows × 1 columns</p>\n",
       "</div>"
      ],
      "text/plain": [
       "     0\n",
       "79   1\n",
       "81   1\n",
       "419  1\n",
       "216  1\n",
       "482  1\n",
       "..  ..\n",
       "412  1\n",
       "348  1\n",
       "353  0\n",
       "189  1\n",
       "184  0\n",
       "\n",
       "[143 rows x 1 columns]"
      ]
     },
     "execution_count": 15,
     "metadata": {},
     "output_type": "execute_result"
    }
   ],
   "source": [
    "y_test"
   ]
  },
  {
   "cell_type": "code",
   "execution_count": 16,
   "metadata": {},
   "outputs": [
    {
     "data": {
      "text/plain": [
       "0.7412587412587412"
      ]
     },
     "execution_count": 16,
     "metadata": {},
     "output_type": "execute_result"
    }
   ],
   "source": [
    "accuracy_score(y_true=y_test, y_pred=previsions)"
   ]
  },
  {
   "cell_type": "code",
   "execution_count": 17,
   "metadata": {},
   "outputs": [
    {
     "data": {
      "text/plain": [
       "array([[39,  8],\n",
       "       [29, 67]])"
      ]
     },
     "execution_count": 17,
     "metadata": {},
     "output_type": "execute_result"
    }
   ],
   "source": [
    "confusion_matrix(y_test, previsions)"
   ]
  },
  {
   "cell_type": "code",
   "execution_count": 18,
   "metadata": {},
   "outputs": [
    {
     "data": {
      "text/plain": [
       "(119, 24)"
      ]
     },
     "execution_count": 18,
     "metadata": {},
     "output_type": "execute_result"
    }
   ],
   "source": [
    "38+81, 10+14"
   ]
  },
  {
   "cell_type": "code",
   "execution_count": 19,
   "metadata": {},
   "outputs": [
    {
     "data": {
      "text/plain": [
       "(0.8321678321678322, 0.16783216783216784)"
      ]
     },
     "execution_count": 19,
     "metadata": {},
     "output_type": "execute_result"
    }
   ],
   "source": [
    "119/143, 24/143"
   ]
  },
  {
   "cell_type": "code",
   "execution_count": 20,
   "metadata": {},
   "outputs": [
    {
     "name": "stdout",
     "output_type": "stream",
     "text": [
      "\u001b[1m5/5\u001b[0m \u001b[32m━━━━━━━━━━━━━━━━━━━━\u001b[0m\u001b[37m\u001b[0m \u001b[1m0s\u001b[0m 4ms/step - binary_accuracy: 0.7618 - loss: 0.9038 \n"
     ]
    },
    {
     "data": {
      "text/plain": [
       "[1.1402478218078613, 0.7412587404251099]"
      ]
     },
     "execution_count": 20,
     "metadata": {},
     "output_type": "execute_result"
    }
   ],
   "source": [
    "neural_network.evaluate(X_test, y_test)"
   ]
  }
 ],
 "metadata": {
  "kernelspec": {
   "display_name": ".venv",
   "language": "python",
   "name": "python3"
  },
  "language_info": {
   "codemirror_mode": {
    "name": "ipython",
    "version": 3
   },
   "file_extension": ".py",
   "mimetype": "text/x-python",
   "name": "python",
   "nbconvert_exporter": "python",
   "pygments_lexer": "ipython3",
   "version": "3.11.2"
  }
 },
 "nbformat": 4,
 "nbformat_minor": 2
}
